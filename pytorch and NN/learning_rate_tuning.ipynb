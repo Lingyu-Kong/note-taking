{
 "cells": [
  {
   "cell_type": "markdown",
   "metadata": {},
   "source": [
    "# 介绍 torch 的学习率调整\n",
    "\n",
    "速效救心丸"
   ]
  },
  {
   "cell_type": "markdown",
   "metadata": {},
   "source": [
    "### 判断什么时候学习率需要被调整"
   ]
  },
  {
   "cell_type": "markdown",
   "metadata": {},
   "source": [
    "学习率需要调整主要反映在两种情况上：\n",
    "\n",
    "1. loss 较小但是一直波动，也就是接近 minimal 但是到不了 minimal\n",
    "2. loss 较大，与真实的 mininal 相差很大但是即使再训练很多轮也没什么改进\n",
    "\n",
    "第一种情况反映了学习率略大，第二种反映了学习率略小。学习率过小会导致模型参数困在 local minimal 里面，无法向 global minial 前进；学习率不大会导致模型参数在 global mininal 附近徘徊而无法落入 global minimal。训练过程的不同阶段对于学习率的大小要求是不同的。前期我们希望不被 local minimal 困住，所以学习率要稍微大一些；后期我们要向 global minimal 一点点靠近，所以学习率应该低一些。"
   ]
  },
  {
   "cell_type": "markdown",
   "metadata": {},
   "source": [
    "这就要求我们在训练过程中动态地调整学习率。"
   ]
  },
  {
   "cell_type": "markdown",
   "metadata": {},
   "source": [
    "接下来我们的代码部分使用的都是下面的模型和数据集"
   ]
  },
  {
   "cell_type": "code",
   "execution_count": 10,
   "metadata": {},
   "outputs": [],
   "source": [
    "import torch\n",
    "import torch.nn as nn\n",
    "\n",
    "class Toy_Model(nn.Module):\n",
    "    def __init__(self, input_size, latent_size, output_size, init_lr=0.01):\n",
    "        super(Toy_Model, self).__init__()\n",
    "        self.model=nn.Sequential(nn.Linear(input_size,latent_size),\n",
    "                                    nn.ReLU(),\n",
    "                                    nn.Linear(latent_size,latent_size),\n",
    "                                    nn.ReLU(),\n",
    "                                    nn.Linear(latent_size,output_size),\n",
    "                                    nn.Sigmoid())\n",
    "        self.optimizer=torch.optim.Adam(self.parameters(),lr=init_lr)\n",
    "    \n",
    "    def forward(self, x):\n",
    "        return self.model(x)"
   ]
  },
  {
   "cell_type": "code",
   "execution_count": 11,
   "metadata": {},
   "outputs": [],
   "source": [
    "from sklearn.datasets import fetch_california_housing\n",
    "\n",
    "data=fetch_california_housing()\n",
    "X=data.data   # shape (17280,8)\n",
    "X=torch.FloatTensor(X)\n",
    "Y=data.target # shape (17280,)\n",
    "Y=torch.FloatTensor(Y).unsqueeze(-1)"
   ]
  },
  {
   "cell_type": "code",
   "execution_count": 12,
   "metadata": {},
   "outputs": [],
   "source": [
    "import matplotlib.pyplot as plt\n",
    "\n",
    "def plot_lr(lr_list):\n",
    "    plt.plot(lr_list)\n",
    "    plt.show()"
   ]
  },
  {
   "cell_type": "markdown",
   "metadata": {},
   "source": [
    "## LambdaLR"
   ]
  },
  {
   "cell_type": "markdown",
   "metadata": {},
   "source": [
    "使用 LambdaLR 定义的学习率衰减。首先定义一个 epoch 的 Lambda 函数，每次调用 scheduler.step() 函数都会将 lr 乘上这个 Lambda 函数"
   ]
  },
  {
   "cell_type": "code",
   "execution_count": 14,
   "metadata": {},
   "outputs": [
    {
     "data": {
      "image/png": "[encoded data removed]",
      "text/plain": [
       "<Figure size 432x288 with 1 Axes>"
      ]
     },
     "metadata": {
      "needs_background": "light"
     },
     "output_type": "display_data"
    }
   ],
   "source": [
    "from torch.optim.lr_scheduler import LambdaLR\n",
    "\n",
    "model=Toy_Model(input_size=X.shape[1],latent_size=10,output_size=1)\n",
    "\n",
    "lambda_fuc=lambda epoch: 0.2**(epoch//10)\n",
    "scheduler=LambdaLR(model.optimizer,lr_lambda=lambda_fuc)\n",
    "\n",
    "lr_list=[]\n",
    "\n",
    "for epoch in range(100):\n",
    "    predict_y=model(X)\n",
    "    loss=torch.nn.functional.mse_loss(predict_y,Y)\n",
    "    model.optimizer.zero_grad()\n",
    "    loss.backward()\n",
    "    model.optimizer.step()\n",
    "    scheduler.step()\n",
    "    lr_list.append(model.optimizer.param_groups[0]['lr'])\n",
    "\n",
    "plot_lr(lr_list)"
   ]
  },
  {
   "cell_type": "markdown",
   "metadata": {},
   "source": [
    "## StepLR"
   ]
  },
  {
   "cell_type": "markdown",
   "metadata": {},
   "source": [
    "每经过 step_size 个 epochs 之后通过固定衰减因子 $\\gamma$ 来降低学习率"
   ]
  },
  {
   "cell_type": "code",
   "execution_count": 16,
   "metadata": {},
   "outputs": [
    {
     "data": {
      "image/png": "[encoded data removed]",
      "text/plain": [
       "<Figure size 432x288 with 1 Axes>"
      ]
     },
     "metadata": {
      "needs_background": "light"
     },
     "output_type": "display_data"
    }
   ],
   "source": [
    "from torch.optim.lr_scheduler import StepLR\n",
    "\n",
    "model=Toy_Model(input_size=X.shape[1],latent_size=10,output_size=1)\n",
    "\n",
    "scheduler=StepLR(model.optimizer,step_size=10,gamma=0.5)\n",
    "\n",
    "lr_list=[]\n",
    "\n",
    "for epoch in range(100):\n",
    "    predict_y=model(X)\n",
    "    loss=torch.nn.functional.mse_loss(predict_y,Y)\n",
    "    model.optimizer.zero_grad()\n",
    "    loss.backward()\n",
    "    model.optimizer.step()\n",
    "    scheduler.step()\n",
    "    lr_list.append(model.optimizer.param_groups[0]['lr'])\n",
    "\n",
    "plot_lr(lr_list)"
   ]
  },
  {
   "cell_type": "markdown",
   "metadata": {},
   "source": [
    "## MultiStepLR"
   ]
  },
  {
   "cell_type": "markdown",
   "metadata": {},
   "source": [
    "使用一个 milestones 列表标记固定的 epochs 轮数，到达这些轮数的时候使用 $\\gamma$ 进行衰减"
   ]
  },
  {
   "cell_type": "code",
   "execution_count": 17,
   "metadata": {},
   "outputs": [
    {
     "data": {
      "image/png": "[encoded data removed]",
      "text/plain": [
       "<Figure size 432x288 with 1 Axes>"
      ]
     },
     "metadata": {
      "needs_background": "light"
     },
     "output_type": "display_data"
    }
   ],
   "source": [
    "from torch.optim.lr_scheduler import MultiStepLR\n",
    "\n",
    "model=Toy_Model(input_size=X.shape[1],latent_size=10,output_size=1)\n",
    "\n",
    "scheduler=MultiStepLR(model.optimizer,milestones=[20,50,80],gamma=0.5)\n",
    "\n",
    "lr_list=[]\n",
    "\n",
    "for epoch in range(100):\n",
    "    predict_y=model(X)\n",
    "    loss=torch.nn.functional.mse_loss(predict_y,Y)\n",
    "    model.optimizer.zero_grad()\n",
    "    loss.backward()\n",
    "    model.optimizer.step()\n",
    "    scheduler.step()\n",
    "    lr_list.append(model.optimizer.param_groups[0]['lr'])\n",
    "\n",
    "plot_lr(lr_list)"
   ]
  },
  {
   "cell_type": "markdown",
   "metadata": {},
   "source": [
    "## ExponentialLR"
   ]
  },
  {
   "cell_type": "markdown",
   "metadata": {},
   "source": [
    "每一轮 epoch 都乘上 $\\gamma$ 进行衰减"
   ]
  },
  {
   "cell_type": "code",
   "execution_count": 18,
   "metadata": {},
   "outputs": [
    {
     "data": {
      "image/png": "[encoded data removed]",
      "text/plain": [
       "<Figure size 432x288 with 1 Axes>"
      ]
     },
     "metadata": {
      "needs_background": "light"
     },
     "output_type": "display_data"
    }
   ],
   "source": [
    "from torch.optim.lr_scheduler import ExponentialLR\n",
    "\n",
    "model=Toy_Model(input_size=X.shape[1],latent_size=10,output_size=1)\n",
    "\n",
    "scheduler=ExponentialLR(model.optimizer,gamma=0.95)\n",
    "\n",
    "lr_list=[]\n",
    "\n",
    "for epoch in range(100):\n",
    "    predict_y=model(X)\n",
    "    loss=torch.nn.functional.mse_loss(predict_y,Y)\n",
    "    model.optimizer.zero_grad()\n",
    "    loss.backward()\n",
    "    model.optimizer.step()\n",
    "    scheduler.step()\n",
    "    lr_list.append(model.optimizer.param_groups[0]['lr'])\n",
    "\n",
    "plot_lr(lr_list)"
   ]
  },
  {
   "cell_type": "markdown",
   "metadata": {},
   "source": [
    "## ReduceLROnPlateau"
   ]
  },
  {
   "cell_type": "markdown",
   "metadata": {},
   "source": [
    "当指标停止改进时便开始降低学习率。一旦学习停滞，将学习率降低 2-10 倍之后，模型通常会继续学习。 该调度程序读取一个指标数量，如果一定数量的 epoch 后仍没有改善，则学习率会降低。"
   ]
  },
  {
   "cell_type": "code",
   "execution_count": 23,
   "metadata": {},
   "outputs": [
    {
     "data": {
      "image/png": "[encoded data removed]",
      "text/plain": [
       "<Figure size 432x288 with 1 Axes>"
      ]
     },
     "metadata": {
      "needs_background": "light"
     },
     "output_type": "display_data"
    }
   ],
   "source": [
    "from torch.optim.lr_scheduler import ReduceLROnPlateau\n",
    "\n",
    "model=Toy_Model(input_size=X.shape[1],latent_size=10,output_size=1)\n",
    "\n",
    "scheduler=ReduceLROnPlateau(model.optimizer,mode='min',patience=20,factor=0.5,threshold=0.0001)\n",
    "\n",
    "lr_list=[]\n",
    "\n",
    "for epoch in range(500):\n",
    "    predict_y=model(X)\n",
    "    loss=torch.nn.functional.mse_loss(predict_y,Y)\n",
    "    model.optimizer.zero_grad()\n",
    "    loss.backward()\n",
    "    model.optimizer.step()\n",
    "    scheduler.step(loss)\n",
    "    lr_list.append(model.optimizer.param_groups[0]['lr'])\n",
    "\n",
    "plot_lr(lr_list)"
   ]
  },
  {
   "cell_type": "code",
   "execution_count": null,
   "metadata": {},
   "outputs": [],
   "source": []
  }
 ],
 "metadata": {
  "kernelspec": {
   "display_name": "Python 3.8.13 ('crystal_generation')",
   "language": "python",
   "name": "python3"
  },
  "language_info": {
   "codemirror_mode": {
    "name": "ipython",
    "version": 3
   },
   "file_extension": ".py",
   "mimetype": "text/x-python",
   "name": "python",
   "nbconvert_exporter": "python",
   "pygments_lexer": "ipython3",
   "version": "3.8.13"
  },
  "orig_nbformat": 4,
  "vscode": {
   "interpreter": {
    "hash": "18557f2f25e71559d45ffb839f6c7c0ed492a9a6a7a00dd08c091d2c4b260e58"
   }
  }
 },
 "nbformat": 4,
 "nbformat_minor": 2
}
